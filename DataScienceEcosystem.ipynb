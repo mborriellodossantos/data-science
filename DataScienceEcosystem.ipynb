{
  "nbformat": 4,
  "nbformat_minor": 0,
  "metadata": {
    "colab": {
      "provenance": []
    },
    "kernelspec": {
      "name": "python3",
      "display_name": "Python 3"
    },
    "language_info": {
      "name": "python"
    }
  },
  "cells": [
    {
      "cell_type": "markdown",
      "source": [
        "# Data Science Tools and Ecosystem"
      ],
      "metadata": {
        "id": "cnfEzHhm_aXi"
      }
    },
    {
      "cell_type": "markdown",
      "source": [
        "In this notebook, **Data Science Tools and Ecosystem** are summarized."
      ],
      "metadata": {
        "id": "AjqITNO0DDn2"
      }
    },
    {
      "cell_type": "markdown",
      "source": [
        "**Objectives:**\n",
        "\n",
        "- List popular languages for Data Science  \n",
        "- Identify commonly used libraries in Data Science  \n",
        "- Create and format markdown cells in Jupyter Notebook  \n",
        "- Build tables to summarize Data Science tools  \n",
        "- Explain the importance of sharing work using platforms like GitHub  "
      ],
      "metadata": {
        "id": "cwcA6lbhF0u7"
      }
    },
    {
      "cell_type": "markdown",
      "source": [
        "Some of the popular languages that Data Scientists use are:\n",
        "1. Python\n",
        "2. R\n",
        "3. SQL\n",
        "4. Scala"
      ],
      "metadata": {
        "id": "-Alp7WfmDQPS"
      }
    },
    {
      "cell_type": "markdown",
      "source": [
        "Some of the commonly used libraries used by Data Scientists include:\n",
        "\n",
        "1. Pandas – for data manipulation and analysis  \n",
        "2. SciPy – for scientific and technical computing  \n",
        "3. TensorFlow – for deep learning models  \n",
        "4. NLTK – for natural language processing  "
      ],
      "metadata": {
        "id": "gc-Eoah5DYT9"
      }
    },
    {
      "cell_type": "markdown",
      "source": [
        "| Data Science Tools |\n",
        "| --- |\n",
        "| JupyterLab |\n",
        "| RStudio |\n",
        "| Apache Spark |"
      ],
      "metadata": {
        "id": "Cza_2FLSDku-"
      }
    },
    {
      "cell_type": "markdown",
      "source": [
        "### Below are a few examples of evaluating arithmetic expressions in Python."
      ],
      "metadata": {
        "id": "Od_07zbREr3W"
      }
    },
    {
      "cell_type": "code",
      "source": [
        "# This is a simple arithmetic expression to multiply then add integers\n",
        "(3 * 4) + 5"
      ],
      "metadata": {
        "colab": {
          "base_uri": "https://localhost:8080/"
        },
        "id": "tJvSduUEE7kQ",
        "outputId": "4cd790f1-279d-4e84-e394-6421ba1cbcc4"
      },
      "execution_count": 1,
      "outputs": [
        {
          "output_type": "execute_result",
          "data": {
            "text/plain": [
              "17"
            ]
          },
          "metadata": {},
          "execution_count": 1
        }
      ]
    },
    {
      "cell_type": "code",
      "source": [
        "# This will convert 200 minutes to hours by dividing by 60\n",
        "200 / 60"
      ],
      "metadata": {
        "colab": {
          "base_uri": "https://localhost:8080/"
        },
        "id": "YGaUY8rvFLxw",
        "outputId": "668723f6-1f53-4629-9097-67572fb8676d"
      },
      "execution_count": 2,
      "outputs": [
        {
          "output_type": "execute_result",
          "data": {
            "text/plain": [
              "3.3333333333333335"
            ]
          },
          "metadata": {},
          "execution_count": 2
        }
      ]
    },
    {
      "cell_type": "markdown",
      "source": [
        "## Author\n",
        "Marcio Borriello"
      ],
      "metadata": {
        "id": "nJN5LUHxGvvI"
      }
    }
  ]
}